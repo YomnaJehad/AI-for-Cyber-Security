{
 "cells": [
  {
   "cell_type": "code",
   "execution_count": 80,
   "id": "cf4ed72d",
   "metadata": {},
   "outputs": [],
   "source": [
    "import pandas as pd\n",
    "import numpy as np\n",
    "\n",
    "from sklearn.metrics import classification_report\n",
    "from sklearn.metrics import f1_score, recall_score, precision_score\n",
    "from sklearn.model_selection import cross_val_score\n",
    "from sklearn.model_selection import train_test_split\n",
    "\n",
    "from sklearn.ensemble import RandomForestClassifier\n",
    "from xgboost import XGBClassifier\n",
    "import xgboost as xgb\n",
    "\n",
    "import seaborn as sns\n",
    "import matplotlib.pyplot as plt\n",
    "\n",
    "from imblearn.over_sampling import SMOTE\n",
    "\n",
    "import pickle\n"
   ]
  },
  {
   "cell_type": "markdown",
   "id": "a62ab711",
   "metadata": {},
   "source": [
    "# Problem 1"
   ]
  },
  {
   "cell_type": "markdown",
   "id": "48794cf3",
   "metadata": {},
   "source": [
    "### Read Data"
   ]
  },
  {
   "cell_type": "code",
   "execution_count": 81,
   "id": "71371741",
   "metadata": {},
   "outputs": [
    {
     "data": {
      "text/html": [
       "<div>\n",
       "<style scoped>\n",
       "    .dataframe tbody tr th:only-of-type {\n",
       "        vertical-align: middle;\n",
       "    }\n",
       "\n",
       "    .dataframe tbody tr th {\n",
       "        vertical-align: top;\n",
       "    }\n",
       "\n",
       "    .dataframe thead th {\n",
       "        text-align: right;\n",
       "    }\n",
       "</style>\n",
       "<table border=\"1\" class=\"dataframe\">\n",
       "  <thead>\n",
       "    <tr style=\"text-align: right;\">\n",
       "      <th></th>\n",
       "      <th>Destination Port</th>\n",
       "      <th>Flow Duration</th>\n",
       "      <th>Total Fwd Packets</th>\n",
       "      <th>Total Backward Packets</th>\n",
       "      <th>Total Length of Fwd Packets</th>\n",
       "      <th>Total Length of Bwd Packets</th>\n",
       "      <th>Fwd Packet Length Max</th>\n",
       "      <th>Fwd Packet Length Min</th>\n",
       "      <th>Fwd Packet Length Mean</th>\n",
       "      <th>Fwd Packet Length Std</th>\n",
       "      <th>...</th>\n",
       "      <th>min_seg_size_forward</th>\n",
       "      <th>Active Mean</th>\n",
       "      <th>Active Std</th>\n",
       "      <th>Active Max</th>\n",
       "      <th>Active Min</th>\n",
       "      <th>Idle Mean</th>\n",
       "      <th>Idle Std</th>\n",
       "      <th>Idle Max</th>\n",
       "      <th>Idle Min</th>\n",
       "      <th>Label</th>\n",
       "    </tr>\n",
       "  </thead>\n",
       "  <tbody>\n",
       "    <tr>\n",
       "      <th>0</th>\n",
       "      <td>53</td>\n",
       "      <td>159</td>\n",
       "      <td>2</td>\n",
       "      <td>2</td>\n",
       "      <td>68</td>\n",
       "      <td>266</td>\n",
       "      <td>34</td>\n",
       "      <td>34</td>\n",
       "      <td>34.0</td>\n",
       "      <td>0.0</td>\n",
       "      <td>...</td>\n",
       "      <td>20</td>\n",
       "      <td>0.0</td>\n",
       "      <td>0.0</td>\n",
       "      <td>0</td>\n",
       "      <td>0</td>\n",
       "      <td>0.0</td>\n",
       "      <td>0.0</td>\n",
       "      <td>0</td>\n",
       "      <td>0</td>\n",
       "      <td>BENIGN</td>\n",
       "    </tr>\n",
       "    <tr>\n",
       "      <th>1</th>\n",
       "      <td>53</td>\n",
       "      <td>51673</td>\n",
       "      <td>2</td>\n",
       "      <td>2</td>\n",
       "      <td>90</td>\n",
       "      <td>166</td>\n",
       "      <td>45</td>\n",
       "      <td>45</td>\n",
       "      <td>45.0</td>\n",
       "      <td>0.0</td>\n",
       "      <td>...</td>\n",
       "      <td>32</td>\n",
       "      <td>0.0</td>\n",
       "      <td>0.0</td>\n",
       "      <td>0</td>\n",
       "      <td>0</td>\n",
       "      <td>0.0</td>\n",
       "      <td>0.0</td>\n",
       "      <td>0</td>\n",
       "      <td>0</td>\n",
       "      <td>BENIGN</td>\n",
       "    </tr>\n",
       "    <tr>\n",
       "      <th>2</th>\n",
       "      <td>7496</td>\n",
       "      <td>43</td>\n",
       "      <td>1</td>\n",
       "      <td>1</td>\n",
       "      <td>0</td>\n",
       "      <td>6</td>\n",
       "      <td>0</td>\n",
       "      <td>0</td>\n",
       "      <td>0.0</td>\n",
       "      <td>0.0</td>\n",
       "      <td>...</td>\n",
       "      <td>40</td>\n",
       "      <td>0.0</td>\n",
       "      <td>0.0</td>\n",
       "      <td>0</td>\n",
       "      <td>0</td>\n",
       "      <td>0.0</td>\n",
       "      <td>0.0</td>\n",
       "      <td>0</td>\n",
       "      <td>0</td>\n",
       "      <td>ATTACK</td>\n",
       "    </tr>\n",
       "    <tr>\n",
       "      <th>3</th>\n",
       "      <td>46564</td>\n",
       "      <td>61</td>\n",
       "      <td>1</td>\n",
       "      <td>1</td>\n",
       "      <td>6</td>\n",
       "      <td>6</td>\n",
       "      <td>6</td>\n",
       "      <td>6</td>\n",
       "      <td>6.0</td>\n",
       "      <td>0.0</td>\n",
       "      <td>...</td>\n",
       "      <td>20</td>\n",
       "      <td>0.0</td>\n",
       "      <td>0.0</td>\n",
       "      <td>0</td>\n",
       "      <td>0</td>\n",
       "      <td>0.0</td>\n",
       "      <td>0.0</td>\n",
       "      <td>0</td>\n",
       "      <td>0</td>\n",
       "      <td>BENIGN</td>\n",
       "    </tr>\n",
       "    <tr>\n",
       "      <th>4</th>\n",
       "      <td>80</td>\n",
       "      <td>69</td>\n",
       "      <td>2</td>\n",
       "      <td>0</td>\n",
       "      <td>0</td>\n",
       "      <td>0</td>\n",
       "      <td>0</td>\n",
       "      <td>0</td>\n",
       "      <td>0.0</td>\n",
       "      <td>0.0</td>\n",
       "      <td>...</td>\n",
       "      <td>20</td>\n",
       "      <td>0.0</td>\n",
       "      <td>0.0</td>\n",
       "      <td>0</td>\n",
       "      <td>0</td>\n",
       "      <td>0.0</td>\n",
       "      <td>0.0</td>\n",
       "      <td>0</td>\n",
       "      <td>0</td>\n",
       "      <td>BENIGN</td>\n",
       "    </tr>\n",
       "  </tbody>\n",
       "</table>\n",
       "<p>5 rows × 79 columns</p>\n",
       "</div>"
      ],
      "text/plain": [
       "    Destination Port   Flow Duration   Total Fwd Packets  \\\n",
       "0                 53             159                   2   \n",
       "1                 53           51673                   2   \n",
       "2               7496              43                   1   \n",
       "3              46564              61                   1   \n",
       "4                 80              69                   2   \n",
       "\n",
       "    Total Backward Packets  Total Length of Fwd Packets  \\\n",
       "0                        2                           68   \n",
       "1                        2                           90   \n",
       "2                        1                            0   \n",
       "3                        1                            6   \n",
       "4                        0                            0   \n",
       "\n",
       "    Total Length of Bwd Packets   Fwd Packet Length Max  \\\n",
       "0                           266                      34   \n",
       "1                           166                      45   \n",
       "2                             6                       0   \n",
       "3                             6                       6   \n",
       "4                             0                       0   \n",
       "\n",
       "    Fwd Packet Length Min   Fwd Packet Length Mean   Fwd Packet Length Std  \\\n",
       "0                      34                     34.0                     0.0   \n",
       "1                      45                     45.0                     0.0   \n",
       "2                       0                      0.0                     0.0   \n",
       "3                       6                      6.0                     0.0   \n",
       "4                       0                      0.0                     0.0   \n",
       "\n",
       "   ...   min_seg_size_forward  Active Mean   Active Std   Active Max  \\\n",
       "0  ...                     20          0.0          0.0            0   \n",
       "1  ...                     32          0.0          0.0            0   \n",
       "2  ...                     40          0.0          0.0            0   \n",
       "3  ...                     20          0.0          0.0            0   \n",
       "4  ...                     20          0.0          0.0            0   \n",
       "\n",
       "    Active Min  Idle Mean   Idle Std   Idle Max   Idle Min   Label  \n",
       "0            0        0.0        0.0          0          0  BENIGN  \n",
       "1            0        0.0        0.0          0          0  BENIGN  \n",
       "2            0        0.0        0.0          0          0  ATTACK  \n",
       "3            0        0.0        0.0          0          0  BENIGN  \n",
       "4            0        0.0        0.0          0          0  BENIGN  \n",
       "\n",
       "[5 rows x 79 columns]"
      ]
     },
     "execution_count": 81,
     "metadata": {},
     "output_type": "execute_result"
    }
   ],
   "source": [
    "df = pd.read_csv('cicids_static_data.csv')\n",
    "df.head()"
   ]
  },
  {
   "cell_type": "code",
   "execution_count": 82,
   "id": "6ab92e1f",
   "metadata": {},
   "outputs": [
    {
     "name": "stdout",
     "output_type": "stream",
     "text": [
      "<class 'pandas.core.frame.DataFrame'>\n",
      "RangeIndex: 25191 entries, 0 to 25190\n",
      "Data columns (total 79 columns):\n",
      " #   Column                        Non-Null Count  Dtype  \n",
      "---  ------                        --------------  -----  \n",
      " 0    Destination Port             25191 non-null  int64  \n",
      " 1    Flow Duration                25191 non-null  int64  \n",
      " 2    Total Fwd Packets            25191 non-null  int64  \n",
      " 3    Total Backward Packets       25191 non-null  int64  \n",
      " 4   Total Length of Fwd Packets   25191 non-null  int64  \n",
      " 5    Total Length of Bwd Packets  25191 non-null  int64  \n",
      " 6    Fwd Packet Length Max        25191 non-null  int64  \n",
      " 7    Fwd Packet Length Min        25191 non-null  int64  \n",
      " 8    Fwd Packet Length Mean       25191 non-null  float64\n",
      " 9    Fwd Packet Length Std        25191 non-null  float64\n",
      " 10  Bwd Packet Length Max         25191 non-null  int64  \n",
      " 11   Bwd Packet Length Min        25191 non-null  int64  \n",
      " 12   Bwd Packet Length Mean       25191 non-null  float64\n",
      " 13   Bwd Packet Length Std        25191 non-null  float64\n",
      " 14  Flow Bytes/s                  25185 non-null  float64\n",
      " 15   Flow Packets/s               25191 non-null  float64\n",
      " 16   Flow IAT Mean                25191 non-null  float64\n",
      " 17   Flow IAT Std                 25191 non-null  float64\n",
      " 18   Flow IAT Max                 25191 non-null  int64  \n",
      " 19   Flow IAT Min                 25191 non-null  int64  \n",
      " 20  Fwd IAT Total                 25191 non-null  int64  \n",
      " 21   Fwd IAT Mean                 25191 non-null  float64\n",
      " 22   Fwd IAT Std                  25191 non-null  float64\n",
      " 23   Fwd IAT Max                  25191 non-null  int64  \n",
      " 24   Fwd IAT Min                  25191 non-null  int64  \n",
      " 25  Bwd IAT Total                 25191 non-null  int64  \n",
      " 26   Bwd IAT Mean                 25191 non-null  float64\n",
      " 27   Bwd IAT Std                  25191 non-null  float64\n",
      " 28   Bwd IAT Max                  25191 non-null  int64  \n",
      " 29   Bwd IAT Min                  25191 non-null  int64  \n",
      " 30  Fwd PSH Flags                 25191 non-null  int64  \n",
      " 31   Bwd PSH Flags                25191 non-null  int64  \n",
      " 32   Fwd URG Flags                25191 non-null  int64  \n",
      " 33   Bwd URG Flags                25191 non-null  int64  \n",
      " 34   Fwd Header Length            25191 non-null  int64  \n",
      " 35   Bwd Header Length            25191 non-null  int64  \n",
      " 36  Fwd Packets/s                 25191 non-null  float64\n",
      " 37   Bwd Packets/s                25191 non-null  float64\n",
      " 38   Min Packet Length            25191 non-null  int64  \n",
      " 39   Max Packet Length            25191 non-null  int64  \n",
      " 40   Packet Length Mean           25191 non-null  float64\n",
      " 41   Packet Length Std            25191 non-null  float64\n",
      " 42   Packet Length Variance       25191 non-null  float64\n",
      " 43  FIN Flag Count                25191 non-null  int64  \n",
      " 44   SYN Flag Count               25191 non-null  int64  \n",
      " 45   RST Flag Count               25191 non-null  int64  \n",
      " 46   PSH Flag Count               25191 non-null  int64  \n",
      " 47   ACK Flag Count               25191 non-null  int64  \n",
      " 48   URG Flag Count               25191 non-null  int64  \n",
      " 49   CWE Flag Count               25191 non-null  int64  \n",
      " 50   ECE Flag Count               25191 non-null  int64  \n",
      " 51   Down/Up Ratio                25191 non-null  int64  \n",
      " 52   Average Packet Size          25191 non-null  float64\n",
      " 53   Avg Fwd Segment Size         25191 non-null  float64\n",
      " 54   Avg Bwd Segment Size         25191 non-null  float64\n",
      " 55   Fwd Header Length.1          25191 non-null  int64  \n",
      " 56  Fwd Avg Bytes/Bulk            25191 non-null  int64  \n",
      " 57   Fwd Avg Packets/Bulk         25191 non-null  int64  \n",
      " 58   Fwd Avg Bulk Rate            25191 non-null  int64  \n",
      " 59   Bwd Avg Bytes/Bulk           25191 non-null  int64  \n",
      " 60   Bwd Avg Packets/Bulk         25191 non-null  int64  \n",
      " 61  Bwd Avg Bulk Rate             25191 non-null  int64  \n",
      " 62  Subflow Fwd Packets           25191 non-null  int64  \n",
      " 63   Subflow Fwd Bytes            25191 non-null  int64  \n",
      " 64   Subflow Bwd Packets          25191 non-null  int64  \n",
      " 65   Subflow Bwd Bytes            25191 non-null  int64  \n",
      " 66  Init_Win_bytes_forward        25191 non-null  int64  \n",
      " 67   Init_Win_bytes_backward      25191 non-null  int64  \n",
      " 68   act_data_pkt_fwd             25191 non-null  int64  \n",
      " 69   min_seg_size_forward         25191 non-null  int64  \n",
      " 70  Active Mean                   25191 non-null  float64\n",
      " 71   Active Std                   25191 non-null  float64\n",
      " 72   Active Max                   25191 non-null  int64  \n",
      " 73   Active Min                   25191 non-null  int64  \n",
      " 74  Idle Mean                     25191 non-null  float64\n",
      " 75   Idle Std                     25191 non-null  float64\n",
      " 76   Idle Max                     25191 non-null  int64  \n",
      " 77   Idle Min                     25191 non-null  int64  \n",
      " 78  Label                         25191 non-null  object \n",
      "dtypes: float64(24), int64(54), object(1)\n",
      "memory usage: 15.2+ MB\n"
     ]
    }
   ],
   "source": [
    "df.info()"
   ]
  },
  {
   "cell_type": "code",
   "execution_count": 83,
   "id": "af4e962f",
   "metadata": {},
   "outputs": [
    {
     "name": "stdout",
     "output_type": "stream",
     "text": [
      "Flow Bytes/s 6\n"
     ]
    }
   ],
   "source": [
    "for col in df:\n",
    "    #print(col,\":                \" ,df[col].isnull().sum())\n",
    "    if df[col].isnull().sum() != 0 :\n",
    "        print(col, df[col].isnull().sum() )"
   ]
  },
  {
   "cell_type": "markdown",
   "id": "20d44bba",
   "metadata": {},
   "source": [
    "### Data Preprocessing\n",
    "#### Remove outliers or null values"
   ]
  },
  {
   "cell_type": "code",
   "execution_count": 84,
   "id": "e6110689",
   "metadata": {},
   "outputs": [
    {
     "data": {
      "text/html": [
       "<div>\n",
       "<style scoped>\n",
       "    .dataframe tbody tr th:only-of-type {\n",
       "        vertical-align: middle;\n",
       "    }\n",
       "\n",
       "    .dataframe tbody tr th {\n",
       "        vertical-align: top;\n",
       "    }\n",
       "\n",
       "    .dataframe thead th {\n",
       "        text-align: right;\n",
       "    }\n",
       "</style>\n",
       "<table border=\"1\" class=\"dataframe\">\n",
       "  <thead>\n",
       "    <tr style=\"text-align: right;\">\n",
       "      <th></th>\n",
       "      <th>Destination Port</th>\n",
       "      <th>Flow Duration</th>\n",
       "      <th>Total Fwd Packets</th>\n",
       "      <th>Total Backward Packets</th>\n",
       "      <th>Total Length of Fwd Packets</th>\n",
       "      <th>Total Length of Bwd Packets</th>\n",
       "      <th>Fwd Packet Length Max</th>\n",
       "      <th>Fwd Packet Length Min</th>\n",
       "      <th>Fwd Packet Length Mean</th>\n",
       "      <th>Fwd Packet Length Std</th>\n",
       "      <th>...</th>\n",
       "      <th>min_seg_size_forward</th>\n",
       "      <th>Active Mean</th>\n",
       "      <th>Active Std</th>\n",
       "      <th>Active Max</th>\n",
       "      <th>Active Min</th>\n",
       "      <th>Idle Mean</th>\n",
       "      <th>Idle Std</th>\n",
       "      <th>Idle Max</th>\n",
       "      <th>Idle Min</th>\n",
       "      <th>Label</th>\n",
       "    </tr>\n",
       "  </thead>\n",
       "  <tbody>\n",
       "    <tr>\n",
       "      <th>0</th>\n",
       "      <td>53</td>\n",
       "      <td>159</td>\n",
       "      <td>2</td>\n",
       "      <td>2</td>\n",
       "      <td>68</td>\n",
       "      <td>266</td>\n",
       "      <td>34</td>\n",
       "      <td>34</td>\n",
       "      <td>34.0</td>\n",
       "      <td>0.0</td>\n",
       "      <td>...</td>\n",
       "      <td>20</td>\n",
       "      <td>0.0</td>\n",
       "      <td>0.0</td>\n",
       "      <td>0</td>\n",
       "      <td>0</td>\n",
       "      <td>0.0</td>\n",
       "      <td>0.0</td>\n",
       "      <td>0</td>\n",
       "      <td>0</td>\n",
       "      <td>BENIGN</td>\n",
       "    </tr>\n",
       "    <tr>\n",
       "      <th>1</th>\n",
       "      <td>53</td>\n",
       "      <td>51673</td>\n",
       "      <td>2</td>\n",
       "      <td>2</td>\n",
       "      <td>90</td>\n",
       "      <td>166</td>\n",
       "      <td>45</td>\n",
       "      <td>45</td>\n",
       "      <td>45.0</td>\n",
       "      <td>0.0</td>\n",
       "      <td>...</td>\n",
       "      <td>32</td>\n",
       "      <td>0.0</td>\n",
       "      <td>0.0</td>\n",
       "      <td>0</td>\n",
       "      <td>0</td>\n",
       "      <td>0.0</td>\n",
       "      <td>0.0</td>\n",
       "      <td>0</td>\n",
       "      <td>0</td>\n",
       "      <td>BENIGN</td>\n",
       "    </tr>\n",
       "    <tr>\n",
       "      <th>2</th>\n",
       "      <td>7496</td>\n",
       "      <td>43</td>\n",
       "      <td>1</td>\n",
       "      <td>1</td>\n",
       "      <td>0</td>\n",
       "      <td>6</td>\n",
       "      <td>0</td>\n",
       "      <td>0</td>\n",
       "      <td>0.0</td>\n",
       "      <td>0.0</td>\n",
       "      <td>...</td>\n",
       "      <td>40</td>\n",
       "      <td>0.0</td>\n",
       "      <td>0.0</td>\n",
       "      <td>0</td>\n",
       "      <td>0</td>\n",
       "      <td>0.0</td>\n",
       "      <td>0.0</td>\n",
       "      <td>0</td>\n",
       "      <td>0</td>\n",
       "      <td>ATTACK</td>\n",
       "    </tr>\n",
       "    <tr>\n",
       "      <th>3</th>\n",
       "      <td>46564</td>\n",
       "      <td>61</td>\n",
       "      <td>1</td>\n",
       "      <td>1</td>\n",
       "      <td>6</td>\n",
       "      <td>6</td>\n",
       "      <td>6</td>\n",
       "      <td>6</td>\n",
       "      <td>6.0</td>\n",
       "      <td>0.0</td>\n",
       "      <td>...</td>\n",
       "      <td>20</td>\n",
       "      <td>0.0</td>\n",
       "      <td>0.0</td>\n",
       "      <td>0</td>\n",
       "      <td>0</td>\n",
       "      <td>0.0</td>\n",
       "      <td>0.0</td>\n",
       "      <td>0</td>\n",
       "      <td>0</td>\n",
       "      <td>BENIGN</td>\n",
       "    </tr>\n",
       "    <tr>\n",
       "      <th>4</th>\n",
       "      <td>80</td>\n",
       "      <td>69</td>\n",
       "      <td>2</td>\n",
       "      <td>0</td>\n",
       "      <td>0</td>\n",
       "      <td>0</td>\n",
       "      <td>0</td>\n",
       "      <td>0</td>\n",
       "      <td>0.0</td>\n",
       "      <td>0.0</td>\n",
       "      <td>...</td>\n",
       "      <td>20</td>\n",
       "      <td>0.0</td>\n",
       "      <td>0.0</td>\n",
       "      <td>0</td>\n",
       "      <td>0</td>\n",
       "      <td>0.0</td>\n",
       "      <td>0.0</td>\n",
       "      <td>0</td>\n",
       "      <td>0</td>\n",
       "      <td>BENIGN</td>\n",
       "    </tr>\n",
       "  </tbody>\n",
       "</table>\n",
       "<p>5 rows × 79 columns</p>\n",
       "</div>"
      ],
      "text/plain": [
       "    Destination Port   Flow Duration   Total Fwd Packets  \\\n",
       "0                 53             159                   2   \n",
       "1                 53           51673                   2   \n",
       "2               7496              43                   1   \n",
       "3              46564              61                   1   \n",
       "4                 80              69                   2   \n",
       "\n",
       "    Total Backward Packets  Total Length of Fwd Packets  \\\n",
       "0                        2                           68   \n",
       "1                        2                           90   \n",
       "2                        1                            0   \n",
       "3                        1                            6   \n",
       "4                        0                            0   \n",
       "\n",
       "    Total Length of Bwd Packets   Fwd Packet Length Max  \\\n",
       "0                           266                      34   \n",
       "1                           166                      45   \n",
       "2                             6                       0   \n",
       "3                             6                       6   \n",
       "4                             0                       0   \n",
       "\n",
       "    Fwd Packet Length Min   Fwd Packet Length Mean   Fwd Packet Length Std  \\\n",
       "0                      34                     34.0                     0.0   \n",
       "1                      45                     45.0                     0.0   \n",
       "2                       0                      0.0                     0.0   \n",
       "3                       6                      6.0                     0.0   \n",
       "4                       0                      0.0                     0.0   \n",
       "\n",
       "   ...   min_seg_size_forward  Active Mean   Active Std   Active Max  \\\n",
       "0  ...                     20          0.0          0.0            0   \n",
       "1  ...                     32          0.0          0.0            0   \n",
       "2  ...                     40          0.0          0.0            0   \n",
       "3  ...                     20          0.0          0.0            0   \n",
       "4  ...                     20          0.0          0.0            0   \n",
       "\n",
       "    Active Min  Idle Mean   Idle Std   Idle Max   Idle Min   Label  \n",
       "0            0        0.0        0.0          0          0  BENIGN  \n",
       "1            0        0.0        0.0          0          0  BENIGN  \n",
       "2            0        0.0        0.0          0          0  ATTACK  \n",
       "3            0        0.0        0.0          0          0  BENIGN  \n",
       "4            0        0.0        0.0          0          0  BENIGN  \n",
       "\n",
       "[5 rows x 79 columns]"
      ]
     },
     "execution_count": 84,
     "metadata": {},
     "output_type": "execute_result"
    }
   ],
   "source": [
    "df = df.replace([np.inf, -np.inf, np.nan] , 0)\n",
    "df.head()"
   ]
  },
  {
   "cell_type": "markdown",
   "id": "57328636",
   "metadata": {},
   "source": [
    "#### Split features and label"
   ]
  },
  {
   "cell_type": "code",
   "execution_count": 85,
   "id": "df209921",
   "metadata": {},
   "outputs": [
    {
     "name": "stdout",
     "output_type": "stream",
     "text": [
      "(25191,) (25191, 78)\n"
     ]
    }
   ],
   "source": [
    "X = df.drop(['Label'], axis=1)\n",
    "y = df['Label']\n",
    " \n",
    "print(y.shape, X.shape)"
   ]
  },
  {
   "cell_type": "markdown",
   "id": "d2ff0a14",
   "metadata": {},
   "source": [
    "#### Explore data imbalance"
   ]
  },
  {
   "cell_type": "code",
   "execution_count": 86,
   "id": "fb573e83",
   "metadata": {},
   "outputs": [
    {
     "name": "stderr",
     "output_type": "stream",
     "text": [
      "/home/yomna/anaconda3/lib/python3.8/site-packages/seaborn/_decorators.py:36: FutureWarning: Pass the following variables as keyword args: x, y. From version 0.12, the only valid positional argument will be `data`, and passing other arguments without an explicit keyword will result in an error or misinterpretation.\n",
      "  warnings.warn(\n"
     ]
    },
    {
     "data": {
      "text/plain": [
       "Text(0.5, 1.0, 'Target variable count')"
      ]
     },
     "execution_count": 86,
     "metadata": {},
     "output_type": "execute_result"
    },
    {
     "data": {
      "image/png": "[encoded data removed]",
      "text/plain": [
       "<Figure size 720x360 with 1 Axes>"
      ]
     },
     "metadata": {},
     "output_type": "display_data"
    }
   ],
   "source": [
    "z=y.value_counts().values\n",
    "sns.set(rc={'figure.figsize':(10,5)})\n",
    "sns.barplot([0,1],z)\n",
    "plt.title('Target variable count')"
   ]
  },
  {
   "cell_type": "markdown",
   "id": "78f3a5a5",
   "metadata": {},
   "source": [
    "#### Apply data oversampling using SMOTE"
   ]
  },
  {
   "cell_type": "code",
   "execution_count": 87,
   "id": "e0e2d1e7",
   "metadata": {},
   "outputs": [
    {
     "data": {
      "text/plain": [
       "((45488, 78), (45488,))"
      ]
     },
     "execution_count": 87,
     "metadata": {},
     "output_type": "execute_result"
    }
   ],
   "source": [
    "smote = SMOTE()\n",
    "X_sm, y_sm = smote.fit_resample(X, y)\n",
    "X_sm.shape, y_sm.shape"
   ]
  },
  {
   "cell_type": "code",
   "execution_count": 88,
   "id": "e88611d7",
   "metadata": {},
   "outputs": [
    {
     "name": "stderr",
     "output_type": "stream",
     "text": [
      "/home/yomna/anaconda3/lib/python3.8/site-packages/seaborn/_decorators.py:36: FutureWarning: Pass the following variables as keyword args: x, y. From version 0.12, the only valid positional argument will be `data`, and passing other arguments without an explicit keyword will result in an error or misinterpretation.\n",
      "  warnings.warn(\n"
     ]
    },
    {
     "data": {
      "text/plain": [
       "Text(0.5, 1.0, 'Target variable count')"
      ]
     },
     "execution_count": 88,
     "metadata": {},
     "output_type": "execute_result"
    },
    {
     "data": {
      "image/png": "[encoded data removed]",
      "text/plain": [
       "<Figure size 720x360 with 1 Axes>"
      ]
     },
     "metadata": {},
     "output_type": "display_data"
    }
   ],
   "source": [
    "z=y_sm.value_counts().values\n",
    "sns.set(rc={'figure.figsize':(10,5)})\n",
    "sns.barplot([0,1],z)\n",
    "plt.title('Target variable count')"
   ]
  },
  {
   "cell_type": "markdown",
   "id": "adae7e3a",
   "metadata": {},
   "source": [
    "## Split data into train and test"
   ]
  },
  {
   "cell_type": "code",
   "execution_count": 89,
   "id": "1dd5fd4f",
   "metadata": {},
   "outputs": [],
   "source": [
    "X_train, X_test, y_train, y_test = train_test_split(X_sm,y_sm, train_size = 0.7)"
   ]
  },
  {
   "cell_type": "markdown",
   "id": "923c7c1b",
   "metadata": {},
   "source": [
    "## Classifier 1 (RandomForest)"
   ]
  },
  {
   "cell_type": "code",
   "execution_count": 90,
   "id": "1a1f680b",
   "metadata": {},
   "outputs": [
    {
     "data": {
      "text/plain": [
       "(1.0, 0.9986077526196233)"
      ]
     },
     "execution_count": 90,
     "metadata": {},
     "output_type": "execute_result"
    }
   ],
   "source": [
    "clf = RandomForestClassifier()\n",
    "clf.fit(X_train, y_train)\n",
    "clf.score(X_train, y_train), clf.score(X_test, y_test)"
   ]
  },
  {
   "cell_type": "code",
   "execution_count": 91,
   "id": "40dead25",
   "metadata": {},
   "outputs": [],
   "source": [
    "# f1_score(y_test, y_pred, average='macro'), recall_score(y_test, y_pred, average='macro'), precision_score(y_test, y_pred, average='macro')"
   ]
  },
  {
   "cell_type": "code",
   "execution_count": 92,
   "id": "f0051036",
   "metadata": {},
   "outputs": [
    {
     "name": "stdout",
     "output_type": "stream",
     "text": [
      "              precision    recall  f1-score   support\n",
      "\n",
      "      ATTACK       1.00      1.00      1.00      6808\n",
      "      BENIGN       1.00      1.00      1.00      6839\n",
      "\n",
      "    accuracy                           1.00     13647\n",
      "   macro avg       1.00      1.00      1.00     13647\n",
      "weighted avg       1.00      1.00      1.00     13647\n",
      "\n"
     ]
    }
   ],
   "source": [
    "y_pred = clf.predict(X_test)\n",
    "print(classification_report(y_test, y_pred))"
   ]
  },
  {
   "cell_type": "code",
   "execution_count": 93,
   "id": "4e04af20",
   "metadata": {},
   "outputs": [
    {
     "data": {
      "text/plain": [
       "<sklearn.metrics._plot.roc_curve.RocCurveDisplay at 0x7f3ddc18dd30>"
      ]
     },
     "execution_count": 93,
     "metadata": {},
     "output_type": "execute_result"
    },
    {
     "data": {
      "image/png": "[encoded data removed]",
      "text/plain": [
       "<Figure size 720x360 with 1 Axes>"
      ]
     },
     "metadata": {},
     "output_type": "display_data"
    }
   ],
   "source": [
    "from sklearn import metrics\n",
    "import matplotlib.pyplot as plt\n",
    "metrics.plot_roc_curve(clf, X_test, y_test)"
   ]
  },
  {
   "cell_type": "markdown",
   "id": "88b5284e",
   "metadata": {},
   "source": [
    "## Classifier 2 (XGBoost)"
   ]
  },
  {
   "cell_type": "code",
   "execution_count": 94,
   "id": "4ee257b9",
   "metadata": {},
   "outputs": [
    {
     "name": "stderr",
     "output_type": "stream",
     "text": [
      "/home/yomna/anaconda3/lib/python3.8/site-packages/xgboost/sklearn.py:888: UserWarning: The use of label encoder in XGBClassifier is deprecated and will be removed in a future release. To remove this warning, do the following: 1) Pass option use_label_encoder=False when constructing XGBClassifier object; and 2) Encode your labels (y) as integers starting with 0, i.e. 0, 1, 2, ..., [num_class - 1].\n",
      "  warnings.warn(label_encoder_deprecation_msg, UserWarning)\n"
     ]
    },
    {
     "name": "stdout",
     "output_type": "stream",
     "text": [
      "[13:53:10] WARNING: ../src/learner.cc:1061: Starting in XGBoost 1.3.0, the default evaluation metric used with the objective 'binary:logistic' was changed from 'error' to 'logloss'. Explicitly set eval_metric if you'd like to restore the old behavior.\n"
     ]
    }
   ],
   "source": [
    "xg_clf = xgb.XGBClassifier(objective ='binary:logistic',learning_rate = 0.001,colsample_bytree = 0.8,\n",
    "                              max_depth = 10, alpha = 10, n_estimators = 50,scale_pos_weight=20).fit(X_train, y_train)"
   ]
  },
  {
   "cell_type": "code",
   "execution_count": 95,
   "id": "5a880fc2",
   "metadata": {},
   "outputs": [
    {
     "data": {
      "text/plain": [
       "(1.0, 0.9986077526196233)"
      ]
     },
     "execution_count": 95,
     "metadata": {},
     "output_type": "execute_result"
    }
   ],
   "source": [
    "clf.score(X_train, y_train), clf.score(X_test, y_test)"
   ]
  },
  {
   "cell_type": "code",
   "execution_count": 96,
   "id": "338656b5",
   "metadata": {},
   "outputs": [
    {
     "name": "stdout",
     "output_type": "stream",
     "text": [
      "              precision    recall  f1-score   support\n",
      "\n",
      "      ATTACK       1.00      0.97      0.98      6808\n",
      "      BENIGN       0.97      1.00      0.98      6839\n",
      "\n",
      "    accuracy                           0.98     13647\n",
      "   macro avg       0.98      0.98      0.98     13647\n",
      "weighted avg       0.98      0.98      0.98     13647\n",
      "\n"
     ]
    }
   ],
   "source": [
    "from sklearn.metrics import classification_report\n",
    "y_pred = xg_clf.predict(X_test)\n",
    "print(classification_report(y_test, y_pred))"
   ]
  },
  {
   "cell_type": "markdown",
   "id": "72594cf1",
   "metadata": {},
   "source": [
    "### We move on with the RandomForestClassifier because it provides better results\n",
    "\n",
    "#### RandomForest k fold cross validation\n"
   ]
  },
  {
   "cell_type": "code",
   "execution_count": 97,
   "id": "5b05b47f",
   "metadata": {},
   "outputs": [
    {
     "data": {
      "text/plain": [
       "array([0.99736206, 0.99956034, 0.99890086, 0.99890086, 0.99868103,\n",
       "       0.99912069, 0.99956034, 0.99912069, 0.99890062, 1.        ])"
      ]
     },
     "execution_count": 97,
     "metadata": {},
     "output_type": "execute_result"
    }
   ],
   "source": [
    "cross_val_score(clf, X_sm, y_sm, cv=10)"
   ]
  },
  {
   "cell_type": "markdown",
   "id": "0493a771",
   "metadata": {},
   "source": [
    "### Retrain the model on the entire dataset, and save it to be able to use it in the adaptive part"
   ]
  },
  {
   "cell_type": "code",
   "execution_count": 48,
   "id": "7b3b0901",
   "metadata": {},
   "outputs": [],
   "source": [
    "# retrain on the entire upsampled dataset\n",
    "clf.fit(X_sm,y_sm)\n",
    "# save the model to disk\n",
    "filename = 'BC_model.sav'\n",
    "pickle.dump(clf, open(filename, 'wb'))"
   ]
  },
  {
   "cell_type": "markdown",
   "id": "54928fa4",
   "metadata": {},
   "source": [
    "____________"
   ]
  },
  {
   "cell_type": "markdown",
   "id": "87f984a6",
   "metadata": {},
   "source": [
    "_______"
   ]
  },
  {
   "cell_type": "markdown",
   "id": "2ff0e4b2",
   "metadata": {},
   "source": [
    "# Problem 2"
   ]
  },
  {
   "cell_type": "code",
   "execution_count": 130,
   "id": "50f71505",
   "metadata": {},
   "outputs": [],
   "source": [
    "df_multi = pd.read_csv('iot_static_data.csv')\n",
    "# df_multi.head()"
   ]
  },
  {
   "cell_type": "code",
   "execution_count": 131,
   "id": "f8faf499",
   "metadata": {},
   "outputs": [
    {
     "name": "stdout",
     "output_type": "stream",
     "text": [
      "<class 'pandas.core.frame.DataFrame'>\n",
      "RangeIndex: 25609 entries, 0 to 25608\n",
      "Columns: 117 entries, MI_dir_L5_weight to Class\n",
      "dtypes: float64(115), object(2)\n",
      "memory usage: 22.9+ MB\n"
     ]
    }
   ],
   "source": [
    "df_multi.info()"
   ]
  },
  {
   "cell_type": "markdown",
   "id": "f10626b1",
   "metadata": {},
   "source": [
    "### Data Preprocessing\n",
    "##### Check for null values, feature selection"
   ]
  },
  {
   "cell_type": "code",
   "execution_count": 132,
   "id": "f3497fba",
   "metadata": {},
   "outputs": [],
   "source": [
    "for col in df_multi:\n",
    "    #print(col,\":                \" ,df[col].isnull().sum())\n",
    "    if df_multi[col].isnull().sum() != 0 :\n",
    "        print(col, df_multi[col].isnull().sum() )"
   ]
  },
  {
   "cell_type": "code",
   "execution_count": 133,
   "id": "3e3129d4",
   "metadata": {},
   "outputs": [],
   "source": [
    "# By checking the feature description we find out that the only categorical column is of no practical importance\n",
    "# Remove the categorical column to make the process faster and easier\n",
    "df_multi.drop(['Source'], axis=1, inplace=True)"
   ]
  },
  {
   "cell_type": "markdown",
   "id": "cdd7ed3f",
   "metadata": {},
   "source": [
    "#### Split features and label"
   ]
  },
  {
   "cell_type": "code",
   "execution_count": 134,
   "id": "fda5e482",
   "metadata": {},
   "outputs": [
    {
     "data": {
      "text/plain": [
       "((25609,), (25609, 115))"
      ]
     },
     "execution_count": 134,
     "metadata": {},
     "output_type": "execute_result"
    }
   ],
   "source": [
    "X_multi= df_multi.drop(['Class'], axis=1)\n",
    "y_multi = df_multi['Class']\n",
    "y_multi.shape, X_multi.shape"
   ]
  },
  {
   "cell_type": "markdown",
   "id": "6650d24b",
   "metadata": {},
   "source": [
    "#### Scaling"
   ]
  },
  {
   "cell_type": "code",
   "execution_count": 135,
   "id": "acc7a2fc",
   "metadata": {},
   "outputs": [],
   "source": [
    "from sklearn.preprocessing import RobustScaler\n",
    "scaler = RobustScaler()\n",
    "X_multi_scaled = scaler.fit_transform(X_multi)\n",
    "X_multi_scaled = pd.DataFrame(X_multi_scaled)"
   ]
  },
  {
   "cell_type": "code",
   "execution_count": 136,
   "id": "617b9ab4",
   "metadata": {},
   "outputs": [],
   "source": [
    "X_multi_scaled.replace([np.inf, -np.inf], np.nan).dropna(axis=0, inplace= True)"
   ]
  },
  {
   "cell_type": "markdown",
   "id": "2698d02e",
   "metadata": {},
   "source": [
    "#### Check data imbalance"
   ]
  },
  {
   "cell_type": "code",
   "execution_count": 137,
   "id": "5da03688",
   "metadata": {},
   "outputs": [
    {
     "name": "stdout",
     "output_type": "stream",
     "text": [
      "[22287  1774   446   377   213   200   101    96    86    18    11]\n"
     ]
    },
    {
     "name": "stderr",
     "output_type": "stream",
     "text": [
      "/home/yomna/anaconda3/lib/python3.8/site-packages/seaborn/_decorators.py:36: FutureWarning: Pass the following variables as keyword args: x, y. From version 0.12, the only valid positional argument will be `data`, and passing other arguments without an explicit keyword will result in an error or misinterpretation.\n",
      "  warnings.warn(\n"
     ]
    },
    {
     "data": {
      "text/plain": [
       "Text(0.5, 1.0, 'Target variable count')"
      ]
     },
     "execution_count": 137,
     "metadata": {},
     "output_type": "execute_result"
    },
    {
     "data": {
      "image/png": "[encoded data removed]",
      "text/plain": [
       "<Figure size 720x360 with 1 Axes>"
      ]
     },
     "metadata": {},
     "output_type": "display_data"
    }
   ],
   "source": [
    "z=y_multi.value_counts().values\n",
    "print(z)\n",
    "sns.set(rc={'figure.figsize':(10,5)})\n",
    "sns.barplot([0,1,2,3,4,5,6,7,8,9,10],z)\n",
    "plt.title('Target variable count')"
   ]
  },
  {
   "cell_type": "markdown",
   "id": "0e4e39a5",
   "metadata": {},
   "source": [
    "#### OverSample"
   ]
  },
  {
   "cell_type": "code",
   "execution_count": 138,
   "id": "1687c8d2",
   "metadata": {},
   "outputs": [
    {
     "data": {
      "text/plain": [
       "((245157, 115), (245157,))"
      ]
     },
     "execution_count": 138,
     "metadata": {},
     "output_type": "execute_result"
    }
   ],
   "source": [
    "smote = SMOTE()\n",
    "X_sm, y_sm = smote.fit_resample(X_multi, y_multi)\n",
    "X_sm.shape, y_sm.shape"
   ]
  },
  {
   "cell_type": "code",
   "execution_count": 139,
   "id": "7415876b",
   "metadata": {},
   "outputs": [
    {
     "name": "stdout",
     "output_type": "stream",
     "text": [
      "[22287 22287 22287 22287 22287 22287 22287 22287 22287 22287 22287]\n"
     ]
    },
    {
     "name": "stderr",
     "output_type": "stream",
     "text": [
      "/home/yomna/anaconda3/lib/python3.8/site-packages/seaborn/_decorators.py:36: FutureWarning: Pass the following variables as keyword args: x, y. From version 0.12, the only valid positional argument will be `data`, and passing other arguments without an explicit keyword will result in an error or misinterpretation.\n",
      "  warnings.warn(\n"
     ]
    },
    {
     "data": {
      "text/plain": [
       "Text(0.5, 1.0, 'Target variable count')"
      ]
     },
     "execution_count": 139,
     "metadata": {},
     "output_type": "execute_result"
    },
    {
     "data": {
      "image/png": "[encoded data removed]",
      "text/plain": [
       "<Figure size 720x360 with 1 Axes>"
      ]
     },
     "metadata": {},
     "output_type": "display_data"
    }
   ],
   "source": [
    "z=y_sm.value_counts().values\n",
    "print(z)\n",
    "sns.set(rc={'figure.figsize':(10,5)})\n",
    "sns.barplot([0,1,2,3,4,5,6,7,8,9,10],z)\n",
    "plt.title('Target variable count')"
   ]
  },
  {
   "cell_type": "markdown",
   "id": "db05411b",
   "metadata": {},
   "source": [
    "### Split into train and test sets"
   ]
  },
  {
   "cell_type": "code",
   "execution_count": 140,
   "id": "c0d856a2",
   "metadata": {},
   "outputs": [],
   "source": [
    "X_multi_train, X_multi_test, y_multi_train, y_multi_test = train_test_split(X_sm,y_sm, train_size = 0.7)"
   ]
  },
  {
   "cell_type": "markdown",
   "id": "b1c0ad7c",
   "metadata": {},
   "source": [
    "### Classifier 1 (RandomForest)"
   ]
  },
  {
   "cell_type": "code",
   "execution_count": 141,
   "id": "1516a9ee",
   "metadata": {},
   "outputs": [
    {
     "data": {
      "text/plain": [
       "(0.9997086399897441, 0.9995513134279654)"
      ]
     },
     "execution_count": 141,
     "metadata": {},
     "output_type": "execute_result"
    }
   ],
   "source": [
    "clf_multi = RandomForestClassifier()\n",
    "clf_multi.fit(X_multi_train, y_multi_train)\n",
    "clf_multi.score(X_multi_train, y_multi_train), clf_multi.score(X_multi_test, y_multi_test)"
   ]
  },
  {
   "cell_type": "code",
   "execution_count": 142,
   "id": "aaa0f43c",
   "metadata": {},
   "outputs": [
    {
     "data": {
      "text/plain": [
       "(0.9995523852977221, 0.9995518109216551, 0.9995550941717336)"
      ]
     },
     "execution_count": 142,
     "metadata": {},
     "output_type": "execute_result"
    }
   ],
   "source": [
    "y_multi_pred = clf_multi.predict(X_multi_test)\n",
    "f1_score(y_multi_test, y_multi_pred, average='macro'), recall_score(y_multi_test, y_multi_pred, average='macro'), precision_score(y_multi_test, y_multi_pred, average='macro')"
   ]
  },
  {
   "cell_type": "code",
   "execution_count": 143,
   "id": "0e758e58",
   "metadata": {},
   "outputs": [
    {
     "name": "stdout",
     "output_type": "stream",
     "text": [
      "                       precision    recall  f1-score   support\n",
      "\n",
      "               BENIGN       1.00      1.00      1.00      6778\n",
      "  gafgyt_combo_attack       1.00      1.00      1.00      6616\n",
      "   gafgyt_junk_attack       1.00      1.00      1.00      6759\n",
      "   gafgyt_scan_attack       1.00      1.00      1.00      6708\n",
      "    gafgyt_tcp_attack       1.00      1.00      1.00      6691\n",
      "    gafgyt_udp_attack       1.00      1.00      1.00      6710\n",
      "     mirai_ack_attack       1.00      1.00      1.00      6684\n",
      "    mirai_scan_attack       1.00      1.00      1.00      6676\n",
      "     mirai_syn_attack       1.00      1.00      1.00      6628\n",
      "     mirai_udp_attack       1.00      1.00      1.00      6615\n",
      "mirai_udpplain_attack       1.00      1.00      1.00      6683\n",
      "\n",
      "             accuracy                           1.00     73548\n",
      "            macro avg       1.00      1.00      1.00     73548\n",
      "         weighted avg       1.00      1.00      1.00     73548\n",
      "\n"
     ]
    }
   ],
   "source": [
    "print(classification_report(y_multi_test, y_multi_pred))"
   ]
  },
  {
   "cell_type": "markdown",
   "id": "4b614307",
   "metadata": {},
   "source": [
    "### Classifier 2 (XGBoost)"
   ]
  },
  {
   "cell_type": "code",
   "execution_count": 144,
   "id": "9579cdc6",
   "metadata": {},
   "outputs": [
    {
     "name": "stderr",
     "output_type": "stream",
     "text": [
      "/home/yomna/anaconda3/lib/python3.8/site-packages/xgboost/sklearn.py:888: UserWarning: The use of label encoder in XGBClassifier is deprecated and will be removed in a future release. To remove this warning, do the following: 1) Pass option use_label_encoder=False when constructing XGBClassifier object; and 2) Encode your labels (y) as integers starting with 0, i.e. 0, 1, 2, ..., [num_class - 1].\n",
      "  warnings.warn(label_encoder_deprecation_msg, UserWarning)\n"
     ]
    },
    {
     "name": "stdout",
     "output_type": "stream",
     "text": [
      "[23:06:46] WARNING: ../src/learner.cc:541: \n",
      "Parameters: { scale_pos_weight } might not be used.\n",
      "\n",
      "  This may not be accurate due to some parameters are only used in language bindings but\n",
      "  passed down to XGBoost core.  Or some parameters are not used but slip through this\n",
      "  verification. Please open an issue if you find above cases.\n",
      "\n",
      "\n",
      "[23:06:50] WARNING: ../src/learner.cc:1061: Starting in XGBoost 1.3.0, the default evaluation metric used with the objective 'multi:softprob' was changed from 'merror' to 'mlogloss'. Explicitly set eval_metric if you'd like to restore the old behavior.\n"
     ]
    },
    {
     "data": {
      "text/plain": [
       "(0.9990443391663607, 0.9988170990373634)"
      ]
     },
     "execution_count": 144,
     "metadata": {},
     "output_type": "execute_result"
    }
   ],
   "source": [
    "xg_class = xgb.XGBClassifier(objective ='binary:logistic',learning_rate = 0.001,colsample_bytree = 0.8,\n",
    "                              max_depth = 10, alpha = 10, n_estimators = 50,scale_pos_weight=20).fit(X_multi_train, y_multi_train)\n",
    "xg_class.score(X_multi_train, y_multi_train), xg_class.score(X_multi_test, y_multi_test)"
   ]
  },
  {
   "cell_type": "code",
   "execution_count": 145,
   "id": "d9ecc476",
   "metadata": {},
   "outputs": [
    {
     "data": {
      "text/plain": [
       "(0.9988162542258465, 0.9988186266249915, 0.9988196705081887)"
      ]
     },
     "execution_count": 145,
     "metadata": {},
     "output_type": "execute_result"
    }
   ],
   "source": [
    "y_multi_pred = xg_class.predict(X_multi_test)\n",
    "f1_score(y_multi_test, y_multi_pred, average='macro'), recall_score(y_multi_test, y_multi_pred, average='macro'), precision_score(y_multi_test, y_multi_pred, average='macro')"
   ]
  },
  {
   "cell_type": "code",
   "execution_count": 146,
   "id": "bc8ea268",
   "metadata": {},
   "outputs": [
    {
     "name": "stdout",
     "output_type": "stream",
     "text": [
      "                       precision    recall  f1-score   support\n",
      "\n",
      "               BENIGN       1.00      1.00      1.00      6778\n",
      "  gafgyt_combo_attack       1.00      1.00      1.00      6616\n",
      "   gafgyt_junk_attack       1.00      1.00      1.00      6759\n",
      "   gafgyt_scan_attack       1.00      1.00      1.00      6708\n",
      "    gafgyt_tcp_attack       1.00      1.00      1.00      6691\n",
      "    gafgyt_udp_attack       1.00      1.00      1.00      6710\n",
      "     mirai_ack_attack       1.00      0.99      1.00      6684\n",
      "    mirai_scan_attack       1.00      1.00      1.00      6676\n",
      "     mirai_syn_attack       1.00      1.00      1.00      6628\n",
      "     mirai_udp_attack       0.99      1.00      1.00      6615\n",
      "mirai_udpplain_attack       1.00      1.00      1.00      6683\n",
      "\n",
      "             accuracy                           1.00     73548\n",
      "            macro avg       1.00      1.00      1.00     73548\n",
      "         weighted avg       1.00      1.00      1.00     73548\n",
      "\n"
     ]
    }
   ],
   "source": [
    "print(classification_report(y_multi_test, y_multi_pred))"
   ]
  },
  {
   "cell_type": "markdown",
   "id": "0cbd0f8a",
   "metadata": {},
   "source": [
    "### We proceed with the Random Forest because it provides better results"
   ]
  },
  {
   "cell_type": "code",
   "execution_count": 148,
   "id": "1b437eb9",
   "metadata": {},
   "outputs": [
    {
     "data": {
      "text/plain": [
       "<sklearn.metrics._plot.confusion_matrix.ConfusionMatrixDisplay at 0x7f3db5bd9a60>"
      ]
     },
     "execution_count": 148,
     "metadata": {},
     "output_type": "execute_result"
    },
    {
     "data": {
      "image/png": "[encoded data removed]",
      "text/plain": [
       "<Figure size 720x720 with 2 Axes>"
      ]
     },
     "metadata": {},
     "output_type": "display_data"
    }
   ],
   "source": [
    "from sklearn.metrics import plot_confusion_matrix\n",
    "fig, ax = plt.subplots(figsize=(10, 10))\n",
    "plot_confusion_matrix(clf_multi, X_multi_test, y_multi_test, ax=ax)  "
   ]
  },
  {
   "cell_type": "code",
   "execution_count": 149,
   "id": "1a42db7b",
   "metadata": {},
   "outputs": [
    {
     "data": {
      "text/plain": [
       "array([0.99934736, 0.99963289, 0.99967368, 0.99975526, 0.99975526,\n",
       "       0.9995921 , 0.99963289, 0.9995513 , 0.99967367, 0.99987763])"
      ]
     },
     "execution_count": 149,
     "metadata": {},
     "output_type": "execute_result"
    }
   ],
   "source": [
    "cross_val_score(clf_multi, X_sm, y_sm, cv=10)"
   ]
  },
  {
   "cell_type": "markdown",
   "id": "72511665",
   "metadata": {},
   "source": [
    "\n",
    "#### Retrain the model on the entire dataset, and save it to be able to use it in the adaptive part"
   ]
  },
  {
   "cell_type": "code",
   "execution_count": 150,
   "id": "c0a839e6",
   "metadata": {},
   "outputs": [],
   "source": [
    "clf_multi.fit(X_sm, y_sm)\n",
    "# save the model to disk\n",
    "filename = 'MC_model.sav'\n",
    "pickle.dump(clf_multi, open(filename, 'wb'))"
   ]
  }
 ],
 "metadata": {
  "kernelspec": {
   "display_name": "Python 3",
   "language": "python",
   "name": "python3"
  },
  "language_info": {
   "codemirror_mode": {
    "name": "ipython",
    "version": 3
   },
   "file_extension": ".py",
   "mimetype": "text/x-python",
   "name": "python",
   "nbconvert_exporter": "python",
   "pygments_lexer": "ipython3",
   "version": "3.8.5"
  }
 },
 "nbformat": 4,
 "nbformat_minor": 5
}
